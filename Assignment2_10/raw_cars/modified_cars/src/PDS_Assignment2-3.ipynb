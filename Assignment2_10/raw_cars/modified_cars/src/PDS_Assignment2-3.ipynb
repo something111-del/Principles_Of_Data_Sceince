{
  "nbformat": 4,
  "nbformat_minor": 0,
  "metadata": {
    "colab": {
      "provenance": []
    },
    "kernelspec": {
      "name": "python3",
      "display_name": "Python 3"
    },
    "language_info": {
      "name": "python"
    }
  },
  "cells": [
    {
      "cell_type": "code",
      "source": [
        "import pandas as pd\n",
        "import datetime"
      ],
      "metadata": {
        "id": "haaa3-mQPZBn"
      },
      "execution_count": 3,
      "outputs": []
    },
    {
      "cell_type": "code",
      "source": [
        "file_path = \"train_pds2.pdf\""
      ],
      "metadata": {
        "id": "89HoYoTCPby_"
      },
      "execution_count": null,
      "outputs": []
    },
    {
      "cell_type": "code",
      "source": [
        "cars=pd.read_csv(\"/content/drive/MyDrive/train.csv\")"
      ],
      "metadata": {
        "id": "qHVl6pG-SGbT"
      },
      "execution_count": null,
      "outputs": []
    },
    {
      "cell_type": "code",
      "source": [
        "import pandas as pd\n",
        "\n",
        "# Load the dataset\n",
        "df = pd.read_csv(\"/content/drive/MyDrive/train.csv\")\n",
        "\n",
        "# Identify missing values\n",
        "missing_values = df.isna()\n",
        "\n",
        "# Get the data types of each column\n",
        "data_types = df.dtypes\n",
        "\n",
        "# Print the number of missing values in each column\n",
        "print(missing_values.sum())\n",
        "print(data_types)\n"
      ],
      "metadata": {
        "colab": {
          "base_uri": "https://localhost:8080/"
        },
        "id": "vlZVDAg3hKfb",
        "outputId": "46b70aa5-5e99-4271-c357-bcd24fa59acb"
      },
      "execution_count": null,
      "outputs": [
        {
          "output_type": "stream",
          "name": "stdout",
          "text": [
            "Unnamed: 0              0\n",
            "Name                    0\n",
            "Location                0\n",
            "Year                    0\n",
            "Kilometers_Driven       0\n",
            "Fuel_Type               0\n",
            "Transmission            0\n",
            "Owner_Type              0\n",
            "Mileage                 2\n",
            "Engine                 36\n",
            "Power                  36\n",
            "Seats                  38\n",
            "New_Price            5032\n",
            "Price                   0\n",
            "dtype: int64\n",
            "Unnamed: 0             int64\n",
            "Name                  object\n",
            "Location              object\n",
            "Year                   int64\n",
            "Kilometers_Driven      int64\n",
            "Fuel_Type             object\n",
            "Transmission          object\n",
            "Owner_Type            object\n",
            "Mileage               object\n",
            "Engine                object\n",
            "Power                 object\n",
            "Seats                float64\n",
            "New_Price             object\n",
            "Price                float64\n",
            "dtype: object\n"
          ]
        }
      ]
    },
    {
      "cell_type": "code",
      "source": [
        "import pandas as pd\n",
        "import datetime\n",
        "\n",
        "# Load the dataset\n",
        "df = pd.read_csv(\"/content/drive/MyDrive/train.csv\")\n",
        "#1 cleaning and removing the units\n",
        "\n",
        "df['Mileage'] = df['Mileage'].str.replace(r'[^0-9.]', '', regex=True).astype(float)\n",
        "df['Engine'] = df['Engine'].str.replace(r'[^0-9.]', '', regex=True).astype(float)\n",
        "df['Power'] = df['Power'].str.replace(r'[^0-9.]', '', regex=True).astype(float)\n",
        "df['New_Price'] = df['New_Price'].str.replace(r'[^0-9.]', '', regex=True).astype(float)\n",
        "\n",
        "#1 Calculate the mean and median after cleaning and converting\n",
        "mean_values = df[['Mileage', 'Engine', 'Power']].mean()\n",
        "median_value = df['New_Price'].median()\n",
        "\n",
        "#2 Impute missing values using the calculated mean and median\n",
        "df['Mileage'].fillna(mean_values['Mileage'], inplace=True)\n",
        "df['Engine'].fillna(mean_values['Engine'], inplace=True)\n",
        "df['Power'].fillna(mean_values['Power'], inplace=True)\n",
        "df['New_Price'].fillna(median_value, inplace=True)\n",
        "#1 we chose mean for numerical values and mode for categorical values and we chose median for new price as we felt it is unsymmetrically distributed and had more empty values so we chose median.\n",
        "#1 Impute missing values in categorical columns with the mode\n",
        "for column in ['Fuel_Type', 'Transmission', 'Seats']:\n",
        "    df[column].fillna(df[column].mode().iloc[0], inplace=True)\n",
        "\n",
        "#3 Convert categorical variables to one-hot encoded values\n",
        "df = pd.get_dummies(df, columns=[\"Fuel_Type\", \"Transmission\", \"Location\", \"Owner_Type\"], drop_first=True)\n",
        "\n",
        "#4 Create a new feature for the current age of the car\n",
        "current_year = datetime.datetime.now().year\n",
        "df[\"Current_Age\"] = current_year - df[\"Year\"]\n",
        "\n",
        "# Save the modified dataframe to a new CSV file\n",
        "df.to_csv('cars_modified.csv', index=False)\n",
        "\n",
        "# Print the modified dataframe\n",
        "print(df.head())\n",
        "\n",
        "# Notify that the CSV file has been saved\n",
        "print('cars_modified.csv')\n",
        "\n",
        "# You can also download the new CSV file if needed\n",
        "from google.colab import files\n",
        "files.download('cars_modified.csv')\n",
        "files.download(file_path)\n"
      ],
      "metadata": {
        "colab": {
          "base_uri": "https://localhost:8080/",
          "height": 666
        },
        "id": "6kK4aRrFO0sf",
        "outputId": "b9d424fd-e300-45bb-987c-3f6fbf9bd9f4"
      },
      "execution_count": 11,
      "outputs": [
        {
          "output_type": "stream",
          "name": "stdout",
          "text": [
            "   Unnamed: 0                              Name  Year  Kilometers_Driven  \\\n",
            "0           1  Hyundai Creta 1.6 CRDi SX Option  2015              41000   \n",
            "1           2                      Honda Jazz V  2011              46000   \n",
            "2           3                 Maruti Ertiga VDI  2012              87000   \n",
            "3           4   Audi A4 New 2.0 TDI Multitronic  2013              40670   \n",
            "4           6            Nissan Micra Diesel XV  2013              86999   \n",
            "\n",
            "   Mileage  Engine   Power  Seats  New_Price  Price  ...  Location_Hyderabad  \\\n",
            "0    19.67  1582.0  126.20    5.0      11.48  12.50  ...                   0   \n",
            "1    13.00  1199.0   88.70    5.0       8.61   4.50  ...                   0   \n",
            "2    20.77  1248.0   88.76    7.0      11.48   6.00  ...                   0   \n",
            "3    15.20  1968.0  140.80    5.0      11.48  17.74  ...                   0   \n",
            "4    23.08  1461.0   63.10    5.0      11.48   3.50  ...                   0   \n",
            "\n",
            "   Location_Jaipur  Location_Kochi  Location_Kolkata  Location_Mumbai  \\\n",
            "0                0               0                 0                0   \n",
            "1                0               0                 0                0   \n",
            "2                0               0                 0                0   \n",
            "3                0               0                 0                0   \n",
            "4                1               0                 0                0   \n",
            "\n",
            "   Location_Pune  Owner_Type_Fourth & Above  Owner_Type_Second  \\\n",
            "0              1                          0                  0   \n",
            "1              0                          0                  0   \n",
            "2              0                          0                  0   \n",
            "3              0                          0                  1   \n",
            "4              0                          0                  0   \n",
            "\n",
            "   Owner_Type_Third  Current_Age  \n",
            "0                 0            8  \n",
            "1                 0           12  \n",
            "2                 0           11  \n",
            "3                 0           10  \n",
            "4                 0           10  \n",
            "\n",
            "[5 rows x 27 columns]\n",
            "cars_modified.csv\n"
          ]
        },
        {
          "output_type": "display_data",
          "data": {
            "text/plain": [
              "<IPython.core.display.Javascript object>"
            ],
            "application/javascript": [
              "\n",
              "    async function download(id, filename, size) {\n",
              "      if (!google.colab.kernel.accessAllowed) {\n",
              "        return;\n",
              "      }\n",
              "      const div = document.createElement('div');\n",
              "      const label = document.createElement('label');\n",
              "      label.textContent = `Downloading \"${filename}\": `;\n",
              "      div.appendChild(label);\n",
              "      const progress = document.createElement('progress');\n",
              "      progress.max = size;\n",
              "      div.appendChild(progress);\n",
              "      document.body.appendChild(div);\n",
              "\n",
              "      const buffers = [];\n",
              "      let downloaded = 0;\n",
              "\n",
              "      const channel = await google.colab.kernel.comms.open(id);\n",
              "      // Send a message to notify the kernel that we're ready.\n",
              "      channel.send({})\n",
              "\n",
              "      for await (const message of channel.messages) {\n",
              "        // Send a message to notify the kernel that we're ready.\n",
              "        channel.send({})\n",
              "        if (message.buffers) {\n",
              "          for (const buffer of message.buffers) {\n",
              "            buffers.push(buffer);\n",
              "            downloaded += buffer.byteLength;\n",
              "            progress.value = downloaded;\n",
              "          }\n",
              "        }\n",
              "      }\n",
              "      const blob = new Blob(buffers, {type: 'application/binary'});\n",
              "      const a = document.createElement('a');\n",
              "      a.href = window.URL.createObjectURL(blob);\n",
              "      a.download = filename;\n",
              "      div.appendChild(a);\n",
              "      a.click();\n",
              "      div.remove();\n",
              "    }\n",
              "  "
            ]
          },
          "metadata": {}
        },
        {
          "output_type": "display_data",
          "data": {
            "text/plain": [
              "<IPython.core.display.Javascript object>"
            ],
            "application/javascript": [
              "download(\"download_db98e122-992a-4490-a107-db8fad4392a8\", \"cars_modified.csv\", 645741)"
            ]
          },
          "metadata": {}
        },
        {
          "output_type": "display_data",
          "data": {
            "text/plain": [
              "<IPython.core.display.Javascript object>"
            ],
            "application/javascript": [
              "\n",
              "    async function download(id, filename, size) {\n",
              "      if (!google.colab.kernel.accessAllowed) {\n",
              "        return;\n",
              "      }\n",
              "      const div = document.createElement('div');\n",
              "      const label = document.createElement('label');\n",
              "      label.textContent = `Downloading \"${filename}\": `;\n",
              "      div.appendChild(label);\n",
              "      const progress = document.createElement('progress');\n",
              "      progress.max = size;\n",
              "      div.appendChild(progress);\n",
              "      document.body.appendChild(div);\n",
              "\n",
              "      const buffers = [];\n",
              "      let downloaded = 0;\n",
              "\n",
              "      const channel = await google.colab.kernel.comms.open(id);\n",
              "      // Send a message to notify the kernel that we're ready.\n",
              "      channel.send({})\n",
              "\n",
              "      for await (const message of channel.messages) {\n",
              "        // Send a message to notify the kernel that we're ready.\n",
              "        channel.send({})\n",
              "        if (message.buffers) {\n",
              "          for (const buffer of message.buffers) {\n",
              "            buffers.push(buffer);\n",
              "            downloaded += buffer.byteLength;\n",
              "            progress.value = downloaded;\n",
              "          }\n",
              "        }\n",
              "      }\n",
              "      const blob = new Blob(buffers, {type: 'application/binary'});\n",
              "      const a = document.createElement('a');\n",
              "      a.href = window.URL.createObjectURL(blob);\n",
              "      a.download = filename;\n",
              "      div.appendChild(a);\n",
              "      a.click();\n",
              "      div.remove();\n",
              "    }\n",
              "  "
            ]
          },
          "metadata": {}
        },
        {
          "output_type": "display_data",
          "data": {
            "text/plain": [
              "<IPython.core.display.Javascript object>"
            ],
            "application/javascript": [
              "download(\"download_1b71447a-19b9-428d-ba88-720daeb61f39\", \"cars_10.csv\", 14317)"
            ]
          },
          "metadata": {}
        }
      ]
    },
    {
      "cell_type": "code",
      "source": [
        "missing_values = df.isna()\n",
        "print(missing_values.sum())"
      ],
      "metadata": {
        "colab": {
          "base_uri": "https://localhost:8080/"
        },
        "id": "ccdOGbFZY4E9",
        "outputId": "327572a1-921f-41af-8621-2fc110384291"
      },
      "execution_count": 12,
      "outputs": [
        {
          "output_type": "stream",
          "name": "stdout",
          "text": [
            "Unnamed: 0                   0\n",
            "Name                         0\n",
            "Year                         0\n",
            "Kilometers_Driven            0\n",
            "Mileage                      0\n",
            "Engine                       0\n",
            "Power                        0\n",
            "Seats                        0\n",
            "New_Price                    0\n",
            "Price                        0\n",
            "Fuel_Type_Electric           0\n",
            "Fuel_Type_Petrol             0\n",
            "Transmission_Manual          0\n",
            "Location_Bangalore           0\n",
            "Location_Chennai             0\n",
            "Location_Coimbatore          0\n",
            "Location_Delhi               0\n",
            "Location_Hyderabad           0\n",
            "Location_Jaipur              0\n",
            "Location_Kochi               0\n",
            "Location_Kolkata             0\n",
            "Location_Mumbai              0\n",
            "Location_Pune                0\n",
            "Owner_Type_Fourth & Above    0\n",
            "Owner_Type_Second            0\n",
            "Owner_Type_Third             0\n",
            "Current_Age                  0\n",
            "dtype: int64\n"
          ]
        }
      ]
    }
  ]
}